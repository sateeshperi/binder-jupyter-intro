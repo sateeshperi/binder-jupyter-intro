{
 "cells": [
  {
   "cell_type": "markdown",
   "id": "american-electric",
   "metadata": {},
   "source": [
    "# Introduction to Jupyter Notebooks"
   ]
  },
  {
   "cell_type": "markdown",
   "id": "gorgeous-spyware",
   "metadata": {},
   "source": [
    "**Learning Objectives:**\n",
    "+ Get an idea of the purpose of Jupyter notebooks.\n",
    "+ How do I edit Jupyter notebooks?\n",
    "+ Create computational narrative in Jupyter notebooks.\n",
    "+ See some inspirational Jupyter notebooks.\n",
    "+ Identify Jupyter notebooks as a tool for interactive learning."
   ]
  },
  {
   "cell_type": "markdown",
   "id": "talented-supplier",
   "metadata": {},
   "source": [
    "# Motivation"
   ]
  },
  {
   "cell_type": "markdown",
   "id": "potential-shift",
   "metadata": {},
   "source": [
    "**Data Literacy: the ability to read, understand, create, and communicate data as information, much like literacy is the ability to derive information from the written word.**"
   ]
  },
  {
   "cell_type": "markdown",
   "id": "quality-objective",
   "metadata": {},
   "source": [
    "The ideology of empowering everyone, regardless of their skill set, to gather and analyze data on their own sounds great in practice, and we hope to get there one day, but what good is accessible data for all to readily use if everyone cannot actually digest, understand, and then effectively talk about it? For us to turn citizen data scientists and self-serving data analysis into a more prevalent reality, we first have to solve the root of the problem: a lack of data literacy.\n",
    "\n",
    "Do you know what your data is showing you? Are you asking the right questions? Can you analyze the data visualizations and pull out the right insights? Do you fully understand what trends are showing and how you should act on them?"
   ]
  },
  {
   "cell_type": "markdown",
   "id": "fewer-equipment",
   "metadata": {},
   "source": [
    "-------------------------"
   ]
  },
  {
   "cell_type": "markdown",
   "id": "infrared-symbol",
   "metadata": {},
   "source": [
    "As teachers we are responsible for many activities, including creating lessons, lectures, courses, assignments, and supportive environments; encouraging engagement and performance in the classroom; helping students learn to think critically so they can become lifelong learners and problem solvers; making material relevant and meaningful to students’ diverse interests and backgrounds; assessing student learning (including grading and evaluation); encouraging students to persist with emotional labor (feedback, communication, etc.); and trying out teaching and learning practices that improve our ability to do all of these things.\n",
    "\n",
    "In short, we design **learning environments and experiences.** and Jupyter notebooks allow one to design learning environments to help support these activities. Incorporating Jupyter notebooks in our teaching will allow to improve students’ understanding of course content, increase student engagement with material and their participation in class, and to make concepts more meaningful and relevant to students’ diverse interests"
   ]
  },
  {
   "cell_type": "markdown",
   "id": "moved-czech",
   "metadata": {},
   "source": [
    "# What is Jupyter?\n",
    "\n",
    "![](http://www.i-programmer.info/images/stories/News/2015/Mar/A/jupyter.jpg)"
   ]
  },
  {
   "cell_type": "markdown",
   "id": "loved-deputy",
   "metadata": {},
   "source": [
    "## Jupyter is a free, open-source, interactive web tool known as a computational notebook, which researchers can use to combine software code, computational output, explanatory text and multimedia resources in a single document\n",
    "\n",
    "Jupyter is a way of computing and doing data science right in your browser. It gives you a **Notebook** — this document we're looking at now.\n",
    "\n",
    "A Jupyter Notebook can contain: **formatted text, images, videos, pretty math equations, and _executable computer code_**. By \"executable,\" we mean that you run the bits of code, right in the document, and get some output displayed for you. This interactive way of computing, mixed with the text, allows you to tell a story (even to yourself) with extra powers!"
   ]
  },
  {
   "cell_type": "markdown",
   "id": "dying-little",
   "metadata": {},
   "source": [
    "![](http://static2.wikia.nocookie.net/__cb20090531121123/harrypotter/images/f/f9/The_Daily_Prophet_-_1991_Break_in_at_Gringotts.gif)"
   ]
  },
  {
   "cell_type": "markdown",
   "id": "lightweight-spectrum",
   "metadata": {},
   "source": [
    "Whether analyzing a corpus of American Literature, creating music and art, or illustrating the engineering concepts behind Digital Signal Processing, the notebooks can combine explanations traditionally found in textbooks with the interactivity of an application."
   ]
  },
  {
   "cell_type": "markdown",
   "id": "twenty-permission",
   "metadata": {},
   "source": [
    "---------------------"
   ]
  },
  {
   "cell_type": "markdown",
   "id": "distributed-sustainability",
   "metadata": {},
   "source": [
    "# What can Jupyter Notebooks be used for?"
   ]
  },
  {
   "cell_type": "markdown",
   "id": "civil-profession",
   "metadata": {},
   "source": [
    "+ **interact with a notebook in a nonlinear fashion, and that gives a great power for exploration**\n",
    "+ **Sharing and explaining code to colleagues**\n",
    "+ **Teaching (programming, experimental/theoretical science)**\n",
    "+ **Learning from other notebooks**\n",
    "+ **Keeping track of interactive sessions, like a digital lab notebook**\n",
    "+ **Supplementary information with published articles**"
   ]
  },
  {
   "cell_type": "markdown",
   "id": "nutritional-newspaper",
   "metadata": {},
   "source": [
    "---------------------------"
   ]
  },
  {
   "cell_type": "markdown",
   "id": "beneficial-torture",
   "metadata": {},
   "source": [
    "## Notebook cells\n",
    "\n",
    "The notebook uses _cells_ to break things up into bits of text, and bits of code. This here is a *Markdown* cell: it contains text that you can format using simple markers to get headings, bold, italic, bullet points, hyperlinks, and more.\n",
    "\n",
    "A few tips:\n",
    "\n",
    "* to create a title, use a hash to start the line: `# Title`\n",
    "* to create the next heading, use two hashes (and so on): `## Heading`\n",
    "* to italicize a word or phrase, enclose it in asterisks (or underdashes): `*italic*` or `_italic_`\n",
    "* to make it bold, enclose it with two asterisks: `**bolded**`\n",
    "* to make a hyperlink, use square and round brackets: `[hyperlinked text](url)`"
   ]
  },
  {
   "cell_type": "markdown",
   "id": "unlike-transcript",
   "metadata": {},
   "source": [
    "-----------------------"
   ]
  },
  {
   "cell_type": "markdown",
   "id": "advanced-discount",
   "metadata": {},
   "source": [
    "Look at the icons on the menu above:\n",
    "\n",
    "The first icon on the left (an old floppy disk) is for saving your notebook. You can add a new cell with the big **+** button. Then you have the cut, copy, and paste buttons. Then you have a button to \"run\" a code cell, the square icon means \"stop\" and the swirly arrow is to \"restart\" your notebook (if the computation is stuck, for example). Next to that, you have the cell-type selector: Code or Markdown (or others that you can ignore for now)."
   ]
  },
  {
   "cell_type": "markdown",
   "id": "handmade-addiction",
   "metadata": {},
   "source": [
    "You can test-drive a code cell by writing some arithmetic operations; Python operators are:\n",
    "```python\n",
    "    +   -   *   /   **   %   //\n",
    "```\n",
    "\n",
    "There's addition, subtraction, multiplication and division. The last three operators are _exponent_ (raise to the power of), _modulo_ (divide and return remainder) and _floor division_.\n",
    "\n",
    "Typing `[shift] + [enter]` will execute the cell and give you the output in a new line, labeled `Out[1]` (the numbering increases each time you execute a cell).\n",
    "\n",
    "_Try it!_ Add a cell with the plus button, enter some operations, and `[shift] + [enter]` to execute."
   ]
  },
  {
   "cell_type": "markdown",
   "id": "electric-mapping",
   "metadata": {},
   "source": [
    "----------------------------"
   ]
  },
  {
   "cell_type": "markdown",
   "id": "assured-installation",
   "metadata": {},
   "source": [
    "In addition to arithmetics, you can do comparisons with operators that return Boolean values (`True` or `False`). These are:\n",
    "```python\n",
    "    ==   !=   <   >   <=   >=\n",
    "```\n",
    "\n",
    "In a code cell, you can enter any valid Python code, and type `[shift] + [enter]` to execute it. For example, the simplest code example just prints the message _Hello World!_, like this:\n",
    "```python\n",
    "    print(\"Hello World!\")\n",
    "```\n",
    "\n",
    "You can also define a variable (say `x`) and assign it a value (say, 2), then use that variable in some code. _Try it!_"
   ]
  },
  {
   "cell_type": "code",
   "execution_count": null,
   "id": "swiss-louis",
   "metadata": {},
   "outputs": [],
   "source": [
    "print(\"Hello World!\")"
   ]
  },
  {
   "cell_type": "code",
   "execution_count": null,
   "id": "latin-nursing",
   "metadata": {},
   "outputs": [],
   "source": [
    "x = 2**8\n",
    "x < 64"
   ]
  },
  {
   "cell_type": "markdown",
   "id": "executive-found",
   "metadata": {},
   "source": [
    "----------------------"
   ]
  },
  {
   "cell_type": "markdown",
   "id": "juvenile-livestock",
   "metadata": {},
   "source": [
    "# Some of Jupyter’s Nice Features with a case study"
   ]
  },
  {
   "cell_type": "markdown",
   "id": "later-deviation",
   "metadata": {},
   "source": [
    "# Case Study - Earth Temperature over time\n",
    "\n",
    "**Is global temperature rising? How much? This is a question of burning importance in today's world!**\n",
    "\n",
    "**How would we go about understanding the trends from the data on global temperature?**\n"
   ]
  },
  {
   "cell_type": "markdown",
   "id": "unnecessary-deployment",
   "metadata": {},
   "source": [
    "# 1. Display Data"
   ]
  },
  {
   "cell_type": "markdown",
   "id": "decreased-butterfly",
   "metadata": {},
   "source": [
    "We can display and explore data in a readable and aesthetically-pleasing way.\n",
    "\n",
    "We have some sample data in the folder called `data`. The file contains the year on the first column, and averages of land temperature anomaly listed sequentially on the second column, from 1880 to 2016\n",
    "\n",
    "Lets look at the last 10 lines in the files. Run the next cell to show the data loaded in as a table\n"
   ]
  },
  {
   "cell_type": "markdown",
   "id": "arranged-declaration",
   "metadata": {},
   "source": [
    "> The term [global temperature](https://www.ncdc.noaa.gov/monitoring-references/faq/anomalies.php) anomaly means the difference in temperature with respect to a reference value or a long-term average. It is a very useful way of looking at the problem and in many ways better than absolute temperature. For example, a winter month may be colder than average in Washington DC, and also in Miami, but the absolute temperatures will be different in both places."
   ]
  },
  {
   "cell_type": "code",
   "execution_count": null,
   "id": "unable-comment",
   "metadata": {},
   "outputs": [],
   "source": [
    "import pandas as pd\n",
    "temp_data = pd.read_csv('data/land_global_temperature_anomaly-1880-2016.csv')\n",
    "temp_data.tail(10)"
   ]
  },
  {
   "cell_type": "markdown",
   "id": "mighty-viewer",
   "metadata": {},
   "source": [
    "# 2. Make Data Visualizations"
   ]
  },
  {
   "cell_type": "markdown",
   "id": "endangered-attribute",
   "metadata": {},
   "source": [
    "We can create visualizations based on the above data in the very same document."
   ]
  },
  {
   "cell_type": "markdown",
   "id": "productive-mercy",
   "metadata": {},
   "source": [
    "We will use the plotting library: the `pyplot` module of Matplotlib for this. Run the cell below to display the plot"
   ]
  },
  {
   "cell_type": "code",
   "execution_count": null,
   "id": "meaning-cookie",
   "metadata": {},
   "outputs": [],
   "source": [
    "import numpy\n",
    "from matplotlib import pyplot\n",
    "%matplotlib inline\n",
    "\n",
    "year, temp_anomaly = numpy.loadtxt(fname='data/land_global_temperature_anomaly-1880-2016.csv', delimiter=',', \n",
    "                              skiprows=5, unpack=True)\n",
    "\n",
    "pyplot.plot(year, temp_anomaly);"
   ]
  },
  {
   "cell_type": "markdown",
   "id": "hundred-merit",
   "metadata": {},
   "source": [
    "# 3. Combine Code, Text, Images, and Links"
   ]
  },
  {
   "cell_type": "markdown",
   "id": "moderate-today",
   "metadata": {},
   "source": [
    "Now we have a plot but if I give you this plot without any information you would not be able to figure out what kind of data it is! We need labels on the axis, a title and why not a better color, font and size of the ticks. Publication quality plots should always be your standard for plotting. How you present your data will allow others (and probably you in the future) to better understand your work.\n",
    "\n",
    "Let's make the font of a specific size and type. We don't want to write this out every time we create a plot. Instead, the next few lines of code will apply for all the plots we create from now on.\n",
    "\n",
    "We are going to plot the same plot as before but now we will add a few things to make it prettier and **publication quality**."
   ]
  },
  {
   "cell_type": "code",
   "execution_count": null,
   "id": "dominant-noise",
   "metadata": {},
   "outputs": [],
   "source": [
    "from matplotlib import rcParams\n",
    "rcParams['font.family'] = 'serif'\n",
    "rcParams['font.size'] = 16\n",
    "\n",
    "#You can set the size of the figure by doing:\n",
    "pyplot.figure(figsize=(10,5))\n",
    "\n",
    "#Plotting\n",
    "pyplot.plot(year, temp_anomaly, color='#2929a3', linestyle='-', linewidth=1) \n",
    "pyplot.title('Land global temperature anomalies. \\n')\n",
    "pyplot.xlabel('Year')\n",
    "pyplot.ylabel('Land temperature anomaly [°C]')\n",
    "pyplot.grid();"
   ]
  },
  {
   "cell_type": "markdown",
   "id": "rural-approach",
   "metadata": {},
   "source": [
    "You can add images to your notebook! below is an example of an image from Wikipedia displayed here"
   ]
  },
  {
   "cell_type": "markdown",
   "id": "superb-reform",
   "metadata": {},
   "source": [
    "![](https://upload.wikimedia.org/wikipedia/commons/thumb/f/f2/Change_in_Average_Temperature.png/330px-Change_in_Average_Temperature.png)"
   ]
  },
  {
   "cell_type": "markdown",
   "id": "special-richardson",
   "metadata": {},
   "source": [
    "YOU CAN ADD VIDEOS TOO TO YOUR NOTEBOOK! Isn't that cool? run the cell below to watch a video from NASA on how temperatures are rising on our planet"
   ]
  },
  {
   "cell_type": "code",
   "execution_count": null,
   "id": "closed-queens",
   "metadata": {},
   "outputs": [],
   "source": [
    "from IPython.display import YouTubeVideo\n",
    "YouTubeVideo('gGOzHVUQCw0')"
   ]
  },
  {
   "cell_type": "markdown",
   "id": "stuffed-bachelor",
   "metadata": {},
   "source": [
    "## The world of Jupyter, so far\n",
    "\n",
    "You learned about: \n",
    "\n",
    "* basics of Jupyter notebook, \n",
    "* code cells and markdown cells,  \n",
    "* using a code cell like a calculator,\n",
    "* `[shift] + [enter]` to execute."
   ]
  },
  {
   "cell_type": "markdown",
   "id": "resistant-button",
   "metadata": {},
   "source": [
    "# A gallery of interesting Jupyter Notebooks\n",
    "\n",
    "https://github.com/jupyter/jupyter/wiki/A-gallery-of-interesting-Jupyter-Notebooks\n",
    "\n",
    "\n",
    "Here is a interactive jupyter notebook to help craft SMART learning outcomes:\n",
    "\n",
    "https://mybinder.org/v2/gh/sateeshperi/workshop-tools/main?urlpath=voila%2Frender%2FLearning_Outcomes_Builder.ipynb"
   ]
  },
  {
   "cell_type": "markdown",
   "id": "disciplinary-skiing",
   "metadata": {},
   "source": [
    "# Student Benefits\n",
    "\n",
    "+ Even if a notebook is designed to be consumed passively, the exposure to code helps show students how to do something and that they can do it themselves. **This also helps demystify coding for students who do not view themselves as traditional “computer science” types**\n",
    "\n",
    "+ At the top of Bloom’s Taxonomy is pure creation, where students can, for example, author complete computational essays. In both cases, notebooks support courses where students have a wide range of experience and ability: students who need help can rely on the scaffolding of prose explanations and existing code, while also providing room to stretch and explore for more-experienced students. The additional annotation and prose that accompanies code also helps support non-traditional learners and students from underrepresented groups who may have less initial experience/comfort with programming."
   ]
  },
  {
   "cell_type": "markdown",
   "id": "increasing-maldives",
   "metadata": {},
   "source": [
    "# Teaching With Jupyter Notebooks"
   ]
  },
  {
   "cell_type": "markdown",
   "id": "lyric-amateur",
   "metadata": {},
   "source": [
    "Notebooks can help teach effective communication skills, combining prose with graphics into a strong narrative."
   ]
  },
  {
   "cell_type": "markdown",
   "id": "alert-completion",
   "metadata": {},
   "source": [
    "+ Jupyter notebook is often used to provide a set of interactive lecture notes\n",
    "+ Notebooks can be used as the format in which homework assignments and projects are completed\n",
    "+ Jupyter notebook is sometimes used as the basis for a flipped-classroom\n",
    "+ Notebooks can be adopted at a variety of levels and formats, offering flexibility based on the needs of a course and comfort/interest level of the instructor: in-class demos, interactive labs, auxiliary material (e.g., book replacements, lecture note supplements), assignments, or full course content in a flipped learning environment"
   ]
  },
  {
   "cell_type": "markdown",
   "id": "emerging-average",
   "metadata": {},
   "source": [
    "# Final discussion\n",
    "+ If you are already using Jupyter, what tasks do you use it for?\n",
    "+ If you are new to Jupyter, do you see any possible use cases?\n",
    "+ Do you think Jupyter Notebooks can help tackle the problem of irreproducible results?"
   ]
  },
  {
   "cell_type": "markdown",
   "id": "declared-fortune",
   "metadata": {},
   "source": [
    "----------------------------"
   ]
  },
  {
   "cell_type": "markdown",
   "id": "cordless-spokesman",
   "metadata": {},
   "source": [
    "# Additional Reading Resources\n",
    "\n",
    "+ https://jupyter.org/\n",
    "+ https://www.nature.com/articles/d41586-018-07196-1\n",
    "+ https://coderefinery.github.io/jupyter/01-motivation/\n",
    "+ https://www.earthdatascience.org/courses/intro-to-earth-data-science/open-reproducible-science/jupyter-python/\n",
    "+ https://jupyter4edu.github.io/jupyter-edu-book/\n",
    "\n",
    "### Jupyter Notebook App\n",
    "\n",
    "If you are not running Jupyter locally on your computer (or on some cloud-hosted service like Binder we are using), and want to see what the Jupyter Notebook App looks like, you can always try it at: https://try.jupyter.org. "
   ]
  },
  {
   "cell_type": "code",
   "execution_count": null,
   "id": "earned-workstation",
   "metadata": {},
   "outputs": [],
   "source": []
  }
 ],
 "metadata": {
  "kernelspec": {
   "display_name": "Python 3",
   "language": "python",
   "name": "python3"
  },
  "language_info": {
   "codemirror_mode": {
    "name": "ipython",
    "version": 3
   },
   "file_extension": ".py",
   "mimetype": "text/x-python",
   "name": "python",
   "nbconvert_exporter": "python",
   "pygments_lexer": "ipython3",
   "version": "3.8.5"
  }
 },
 "nbformat": 4,
 "nbformat_minor": 5
}
