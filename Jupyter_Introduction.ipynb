{
 "cells": [
  {
   "cell_type": "markdown",
   "id": "deadly-accuracy",
   "metadata": {},
   "source": [
    "# Introduction to Jupyter Notebooks"
   ]
  },
  {
   "cell_type": "markdown",
   "id": "monetary-capacity",
   "metadata": {},
   "source": [
    "**Learning Objectives:**\n",
    "+ Get an idea of the purpose of Jupyter notebooks.\n",
    "+ How do I edit Jupyter notebooks?\n",
    "+ Create computational narrative in Jupyter notebooks.\n",
    "+ See some inspirational Jupyter notebooks.\n",
    "+ Identify Jupyter notebooks as a tool for interactive learning."
   ]
  },
  {
   "cell_type": "markdown",
   "id": "filled-arrow",
   "metadata": {},
   "source": [
    "# Motivation"
   ]
  },
  {
   "cell_type": "markdown",
   "id": "naval-coach",
   "metadata": {},
   "source": [
    "**We live in a world that is rapidly evolving, with technology tightly intertwined in life, in school and at work.**"
   ]
  },
  {
   "cell_type": "markdown",
   "id": "secondary-consolidation",
   "metadata": {},
   "source": [
    "> **Data Literacy: the ability to read, understand, create, and communicate data as information, much like literacy is the ability to derive information from the written word.**"
   ]
  },
  {
   "cell_type": "markdown",
   "id": "freelance-evolution",
   "metadata": {},
   "source": [
    "#### The ideology of empowering everyone, regardless of their skill set, to gather and analyze data on their own sounds great in practice, and we hope to get there one day, but what good is accessible data for all to readily use if everyone cannot actually digest, understand, and then effectively talk about it? For us to turn citizen data scientists and self-serving data analysis into a more prevalent reality, we first have to solve the root of the problem: a lack of data literacy."
   ]
  },
  {
   "cell_type": "markdown",
   "id": "editorial-pension",
   "metadata": {},
   "source": [
    "![](https://www.analyticsindiamag.com/wp-content/uploads/2018/11/tomdribbble.gif)"
   ]
  },
  {
   "cell_type": "markdown",
   "id": "alpine-system",
   "metadata": {},
   "source": [
    "> **By 2026, there will be an estimated 3.5 million computing-related jobs open in the United States. However, only 17 percent of these jobs are expected to be filled by graduates of U.S. colleges and universities [1]**\n",
    "\n",
    ">> [1] By the Numbers. National Center for Women & Information Technology, 2018. www.ncwit.org/ bythenumbers."
   ]
  },
  {
   "cell_type": "markdown",
   "id": "alpine-mediterranean",
   "metadata": {},
   "source": [
    "-------------------------"
   ]
  },
  {
   "cell_type": "markdown",
   "id": "political-hawaii",
   "metadata": {},
   "source": [
    "### As teachers we are responsible for many activities, including creating lessons, lectures, courses, assignments, and supportive environments; encouraging engagement and performance in the classroom; helping students learn to think critically so they can become lifelong learners and problem solvers; making material relevant and meaningful to students’ diverse interests and backgrounds; assessing student learning (including grading and evaluation); encouraging students to persist with emotional labor (feedback, communication, etc.); and trying out teaching and learning practices that improve our ability to do all of these things.\n",
    "\n",
    "### In short, we design **learning environments and experiences** and Jupyter notebooks will allow us to design learning environments that increase student engagement with material, their participation in class, and make concepts more meaningful and relevant to students’ diverse interests"
   ]
  },
  {
   "cell_type": "markdown",
   "id": "familiar-baghdad",
   "metadata": {},
   "source": [
    "# What is Jupyter?\n",
    "\n",
    "![](http://www.i-programmer.info/images/stories/News/2015/Mar/A/jupyter.jpg)"
   ]
  },
  {
   "cell_type": "markdown",
   "id": "painful-complex",
   "metadata": {},
   "source": [
    "## Jupyter is a free, open-source, interactive tool known as a computational notebook, which researchers can use to combine software code, computational output, explanatory text and multimedia resources in a single document\n",
    "\n",
    "### Jupyter is a way of computing and doing data science right in your browser. It gives you a **Notebook** — this document we're looking at now.\n",
    "\n",
    "### A Jupyter Notebook can contain: **formatted text, images, videos, pretty math equations, and _executable computer code_**. By \"executable,\" we mean that you run the bits of code, right in the document, and get some output displayed for you. This interactive way of computing, mixed with the text, allows you to tell a story (even to yourself) with extra powers!"
   ]
  },
  {
   "cell_type": "markdown",
   "id": "assumed-gilbert",
   "metadata": {},
   "source": [
    "![](http://static2.wikia.nocookie.net/__cb20090531121123/harrypotter/images/f/f9/The_Daily_Prophet_-_1991_Break_in_at_Gringotts.gif)"
   ]
  },
  {
   "cell_type": "markdown",
   "id": "resident-browse",
   "metadata": {},
   "source": [
    "Whether analyzing a corpus of American Literature, creating music and art, or illustrating the engineering concepts behind Digital Signal Processing, the notebooks can combine explanations traditionally found in textbooks with the interactivity of an application."
   ]
  },
  {
   "cell_type": "markdown",
   "id": "dental-planning",
   "metadata": {},
   "source": [
    "---------------------"
   ]
  },
  {
   "cell_type": "markdown",
   "id": "checked-eligibility",
   "metadata": {},
   "source": [
    "# What can Jupyter Notebooks be used for?"
   ]
  },
  {
   "cell_type": "markdown",
   "id": "contemporary-adolescent",
   "metadata": {},
   "source": [
    "+ **interact with a notebook in a nonlinear fashion, and that gives a great power for exploration**\n",
    "+ **Sharing and explaining code to colleagues**\n",
    "+ **Teaching (programming, experimental/theoretical science)**\n",
    "+ **Learning from other notebooks**\n",
    "+ **Keeping track of interactive sessions, like a digital lab notebook**\n",
    "+ **Supplementary information with published articles**"
   ]
  },
  {
   "cell_type": "markdown",
   "id": "mighty-gazette",
   "metadata": {},
   "source": [
    "---------------------------"
   ]
  },
  {
   "cell_type": "markdown",
   "id": "understanding-concentrate",
   "metadata": {},
   "source": [
    "## Notebook cells\n",
    "\n",
    "The notebook uses _cells_ to break things up into bits of text, and bits of code. This here is a *Markdown* cell: it contains text that you can format using simple markers to get headings, bold, italic, bullet points, hyperlinks, and more.\n",
    "\n",
    "A few tips:\n",
    "\n",
    "* to create a title, use a hash to start the line: `# Title`\n",
    "* to create the next heading, use two hashes (and so on): `## Heading`\n",
    "* to italicize a word or phrase, enclose it in asterisks (or underdashes): `*italic*` or `_italic_`\n",
    "* to make it bold, enclose it with two asterisks: `**bolded**`\n",
    "* to make a hyperlink, use square and round brackets: `[hyperlinked text](url)`"
   ]
  },
  {
   "cell_type": "markdown",
   "id": "homeless-salmon",
   "metadata": {},
   "source": [
    "-----------------------"
   ]
  },
  {
   "cell_type": "markdown",
   "id": "polish-nation",
   "metadata": {},
   "source": [
    "Look at the icons on the menu above:\n",
    "\n",
    "The first icon on the left (an old floppy disk) is for saving your notebook. You can add a new cell with the big **+** button. Then you have the cut, copy, and paste buttons. Then you have a button to \"run\" a code cell, the square icon means \"stop\" and the swirly arrow is to \"restart\" your notebook (if the computation is stuck, for example). Next to that, you have the cell-type selector: Code or Markdown (or others that you can ignore for now)."
   ]
  },
  {
   "cell_type": "markdown",
   "id": "amber-cookie",
   "metadata": {},
   "source": [
    "-----------------------"
   ]
  },
  {
   "cell_type": "markdown",
   "id": "inclusive-shade",
   "metadata": {},
   "source": [
    "You can test-drive a code cell by writing some arithmetic operations; Python operators are:\n",
    "```python\n",
    "    +   -   *   /   **   %   //\n",
    "```\n",
    "\n",
    "There's addition, subtraction, multiplication and division. The last three operators are _exponent_ (raise to the power of), _modulo_ (divide and return remainder) and _floor division_.\n",
    "\n",
    "Typing `[shift] + [enter]` will execute the cell and give you the output in a new line, labeled `Out[1]` (the numbering increases each time you execute a cell).\n",
    "\n",
    "_Try it!_ Add a cell with the plus button, enter some operations, and `[shift] + [enter]` to execute."
   ]
  },
  {
   "cell_type": "markdown",
   "id": "standard-immigration",
   "metadata": {},
   "source": [
    "----------------------------"
   ]
  },
  {
   "cell_type": "markdown",
   "id": "frank-equilibrium",
   "metadata": {},
   "source": [
    "In addition to arithmetics, you can do comparisons with operators that return Boolean values (`True` or `False`). These are:\n",
    "```python\n",
    "    ==   !=   <   >   <=   >=\n",
    "```\n",
    "\n",
    "In a code cell, you can enter any valid Python code, and type `[shift] + [enter]` to execute it. For example, the simplest code example just prints the message _Hello World!_, like this:\n",
    "```python\n",
    "    print(\"Hello World!\")\n",
    "```"
   ]
  },
  {
   "cell_type": "code",
   "execution_count": null,
   "id": "infinite-stupid",
   "metadata": {},
   "outputs": [],
   "source": [
    "print(\"Hello World!\")"
   ]
  },
  {
   "cell_type": "markdown",
   "id": "pending-coating",
   "metadata": {},
   "source": [
    "You can also define a variable (say `x`) and assign it a value (say, 2), then use that variable in some code. _Try it!_"
   ]
  },
  {
   "cell_type": "code",
   "execution_count": null,
   "id": "dependent-dealing",
   "metadata": {},
   "outputs": [],
   "source": [
    "x = 2**8\n",
    "x < 64"
   ]
  },
  {
   "cell_type": "markdown",
   "id": "worse-services",
   "metadata": {},
   "source": [
    "----------------------"
   ]
  },
  {
   "cell_type": "markdown",
   "id": "tribal-bobby",
   "metadata": {},
   "source": [
    "# Some of Jupyter’s Nice Features with a case study"
   ]
  },
  {
   "cell_type": "markdown",
   "id": "encouraging-brook",
   "metadata": {},
   "source": [
    "# Case Study - Earth Temperature over time\n",
    "\n",
    "**Is global temperature rising? How much? This is a question of burning importance in today's world!**\n",
    "\n",
    "**How would we go about understanding the trends from the data on global temperature?**\n"
   ]
  },
  {
   "cell_type": "markdown",
   "id": "convenient-logistics",
   "metadata": {},
   "source": [
    "# 1. Display Data"
   ]
  },
  {
   "cell_type": "markdown",
   "id": "framed-causing",
   "metadata": {},
   "source": [
    "We can display and explore data in a readable and aesthetically-pleasing way.\n",
    "\n",
    "We have some sample data in the folder called `data`. The file contains the year on the first column, and averages of land temperature anomaly listed sequentially on the second column, from 1880 to 2016\n",
    "\n",
    "Lets look at the last 10 lines in the files. Run the next cell to show the data loaded in as a table\n"
   ]
  },
  {
   "cell_type": "markdown",
   "id": "amazing-liechtenstein",
   "metadata": {},
   "source": [
    "> The term [global temperature](https://www.ncdc.noaa.gov/monitoring-references/faq/anomalies.php) anomaly means the difference in temperature with respect to a reference value or a long-term average. It is a very useful way of looking at the problem and in many ways better than absolute temperature. For example, a winter month may be colder than average in Washington DC, and also in Miami, but the absolute temperatures will be different in both places."
   ]
  },
  {
   "cell_type": "code",
   "execution_count": null,
   "id": "computational-chess",
   "metadata": {},
   "outputs": [],
   "source": [
    "import pandas as pd\n",
    "temp_data = pd.read_csv('data/land_global_temperature_anomaly-1880-2016.csv')\n",
    "temp_data.tail(10)"
   ]
  },
  {
   "cell_type": "markdown",
   "id": "russian-sewing",
   "metadata": {},
   "source": [
    "# 2. Make Data Visualizations"
   ]
  },
  {
   "cell_type": "markdown",
   "id": "false-course",
   "metadata": {},
   "source": [
    "We can create visualizations based on the above data in the very same document."
   ]
  },
  {
   "cell_type": "markdown",
   "id": "creative-commodity",
   "metadata": {},
   "source": [
    "We will use the plotting library: the `pyplot` module of Matplotlib for this. Run the cell below to display the plot"
   ]
  },
  {
   "cell_type": "code",
   "execution_count": null,
   "id": "consolidated-islam",
   "metadata": {},
   "outputs": [],
   "source": [
    "import numpy\n",
    "from matplotlib import pyplot\n",
    "%matplotlib inline\n",
    "\n",
    "year, temp_anomaly = numpy.loadtxt(fname='data/land_global_temperature_anomaly-1880-2016.csv', delimiter=',', \n",
    "                              skiprows=5, unpack=True)\n",
    "\n",
    "pyplot.plot(year, temp_anomaly);"
   ]
  },
  {
   "cell_type": "markdown",
   "id": "unusual-boundary",
   "metadata": {},
   "source": [
    "# 3. Combine Code, Text, Images, and Links"
   ]
  },
  {
   "cell_type": "markdown",
   "id": "urban-wireless",
   "metadata": {},
   "source": [
    "Now we have a plot but if I give you this plot without any information you would not be able to figure out what kind of data it is! We need labels on the axis, a title and why not a better color, font and size of the ticks. Publication quality plots should always be your standard for plotting. How you present your data will allow others (and probably you in the future) to better understand your work.\n",
    "\n",
    "Let's make the font of a specific size and type. We don't want to write this out every time we create a plot. Instead, the next few lines of code will apply for all the plots we create from now on.\n",
    "\n",
    "We are going to plot the same plot as before but now we will add a few things to make it prettier and **publication quality**."
   ]
  },
  {
   "cell_type": "code",
   "execution_count": null,
   "id": "monetary-monaco",
   "metadata": {},
   "outputs": [],
   "source": [
    "from matplotlib import rcParams\n",
    "rcParams['font.family'] = 'serif'\n",
    "rcParams['font.size'] = 16\n",
    "\n",
    "#You can set the size of the figure by doing:\n",
    "pyplot.figure(figsize=(10,5))\n",
    "\n",
    "#Plotting\n",
    "pyplot.plot(year, temp_anomaly, color='#2929a3', linestyle='-', linewidth=1) \n",
    "pyplot.title('Land global temperature anomalies. \\n')\n",
    "pyplot.xlabel('Year')\n",
    "pyplot.ylabel('Land temperature anomaly [°C]')\n",
    "pyplot.grid();"
   ]
  },
  {
   "cell_type": "markdown",
   "id": "constant-mandate",
   "metadata": {},
   "source": [
    "#### You can add images to your notebook! below is an example of an image from Wikipedia displayed here"
   ]
  },
  {
   "cell_type": "markdown",
   "id": "broken-state",
   "metadata": {},
   "source": [
    "![](https://upload.wikimedia.org/wikipedia/commons/thumb/f/f2/Change_in_Average_Temperature.png/330px-Change_in_Average_Temperature.png)"
   ]
  },
  {
   "cell_type": "markdown",
   "id": "referenced-manhattan",
   "metadata": {},
   "source": [
    "#### YOU CAN ADD VIDEOS TOO TO YOUR NOTEBOOK! Isn't that cool? run the cell below to watch a video from NASA on how temperatures are rising on our planet"
   ]
  },
  {
   "cell_type": "code",
   "execution_count": null,
   "id": "completed-ghost",
   "metadata": {},
   "outputs": [],
   "source": [
    "from IPython.display import YouTubeVideo\n",
    "YouTubeVideo('gGOzHVUQCw0')"
   ]
  },
  {
   "cell_type": "markdown",
   "id": "capable-rapid",
   "metadata": {},
   "source": [
    "![](https://teacherdallas.weebly.com/uploads/8/2/9/9/82991326/giphy_orig.gif)"
   ]
  },
  {
   "cell_type": "markdown",
   "id": "perfect-nirvana",
   "metadata": {},
   "source": [
    "## The world of Jupyter, so far\n",
    "\n",
    "You learned about: \n",
    "\n",
    "* basics of Jupyter notebook, \n",
    "* code cells and markdown cells,  \n",
    "* using a code cell like a calculator,\n",
    "* `[shift] + [enter]` to execute."
   ]
  },
  {
   "cell_type": "markdown",
   "id": "electrical-uganda",
   "metadata": {},
   "source": [
    "# A gallery of interesting Jupyter Notebooks\n",
    "\n",
    "https://github.com/jupyter/jupyter/wiki/A-gallery-of-interesting-Jupyter-Notebooks\n",
    "\n",
    "\n",
    "Here is a interactive jupyter notebook to help craft SMART learning outcomes:\n",
    "\n",
    "https://mybinder.org/v2/gh/sateeshperi/workshop-tools/main?urlpath=voila%2Frender%2FLearning_Outcomes_Builder.ipynb"
   ]
  },
  {
   "cell_type": "markdown",
   "id": "elect-tomorrow",
   "metadata": {},
   "source": [
    "# Teaching With Jupyter Notebooks"
   ]
  },
  {
   "cell_type": "markdown",
   "id": "sacred-litigation",
   "metadata": {},
   "source": [
    "Notebooks can help teach effective communication skills, combining prose with graphics into a strong narrative."
   ]
  },
  {
   "cell_type": "markdown",
   "id": "shared-dayton",
   "metadata": {},
   "source": [
    "+ Jupyter notebook is often used to provide a set of interactive lecture notes\n",
    "+ Notebooks can be used as the format in which homework assignments and projects are completed\n",
    "+ Jupyter notebook is sometimes used as the basis for a flipped-classroom\n",
    "+ Notebooks can be adopted at a variety of levels and formats, offering flexibility based on the needs of a course and comfort/interest level of the instructor: in-class demos, interactive labs, auxiliary material (e.g., book replacements, lecture note supplements), assignments, or full course content in a flipped learning environment"
   ]
  },
  {
   "cell_type": "markdown",
   "id": "racial-carnival",
   "metadata": {},
   "source": [
    "# Student Benefits\n",
    "\n",
    "+ Even if a notebook is designed to be consumed passively, the exposure to code helps show students how to do something and that they can do it themselves. **This also helps demystify coding for students who do not view themselves as traditional “computer science” types**\n",
    "\n",
    "+ At the top of Bloom’s Taxonomy is pure creation, where students can, for example, author complete computational essays. In both cases, notebooks support courses where students have a wide range of experience and ability: students who need help can rely on the scaffolding of prose explanations and existing code, while also providing room to stretch and explore for more-experienced students. The additional annotation and prose that accompanies code also helps support non-traditional learners and students from underrepresented groups who may have less initial experience/comfort with programming."
   ]
  },
  {
   "cell_type": "markdown",
   "id": "fossil-baseline",
   "metadata": {},
   "source": [
    "# Final discussion\n",
    "\n",
    "+ If you are already using Jupyter, what tasks do you use it for?\n",
    "+ If you are new to Jupyter, do you see any possible use cases?\n",
    "+ Do you think Jupyter Notebooks can help tackle the problem of irreproducible results?"
   ]
  },
  {
   "cell_type": "markdown",
   "id": "vocational-distinction",
   "metadata": {},
   "source": [
    "----------------------------"
   ]
  },
  {
   "cell_type": "markdown",
   "id": "dying-ecuador",
   "metadata": {},
   "source": [
    "# Additional Reading Resources\n",
    "\n",
    "+ https://jupyter.org/\n",
    "+ https://www.nature.com/articles/d41586-018-07196-1\n",
    "+ https://coderefinery.github.io/jupyter/01-motivation/\n",
    "+ https://www.earthdatascience.org/courses/intro-to-earth-data-science/open-reproducible-science/jupyter-python/\n",
    "+ https://jupyter4edu.github.io/jupyter-edu-book/\n",
    "\n",
    "### Jupyter Notebook App\n",
    "\n",
    "If you are not running Jupyter locally on your computer (or on some cloud-hosted service like Binder we are using), and want to see what the Jupyter Notebook App looks like, you can always try it at: https://try.jupyter.org. "
   ]
  },
  {
   "cell_type": "markdown",
   "id": "southern-liabilities",
   "metadata": {},
   "source": [
    "# 3-2-1 Feedback\n",
    "**Yes we can embed google forms too right in this notebook!** run the cell below to display google feedback form."
   ]
  },
  {
   "cell_type": "code",
   "execution_count": null,
   "id": "completed-tuner",
   "metadata": {},
   "outputs": [],
   "source": [
    "from ipywidgets import HTML\n",
    "display(HTML('<iframe src=\"https://docs.google.com/forms/d/e/1FAIpQLSclJi3VTQWT-NeotDKQvFUvH0nzNAmZyGETtq1bob6OLOCtSw/viewform?embedded=true\" width=\"640\" height=\"893\" frameborder=\"0\" marginheight=\"0\" marginwidth=\"0\">Loading…</iframe>'))"
   ]
  }
 ],
 "metadata": {
  "kernelspec": {
   "display_name": "Python 3",
   "language": "python",
   "name": "python3"
  },
  "language_info": {
   "codemirror_mode": {
    "name": "ipython",
    "version": 3
   },
   "file_extension": ".py",
   "mimetype": "text/x-python",
   "name": "python",
   "nbconvert_exporter": "python",
   "pygments_lexer": "ipython3",
   "version": "3.8.5"
  }
 },
 "nbformat": 4,
 "nbformat_minor": 5
}
