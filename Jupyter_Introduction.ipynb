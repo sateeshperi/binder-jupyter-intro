{
 "cells": [
  {
   "cell_type": "markdown",
   "id": "hungry-sport",
   "metadata": {},
   "source": [
    "# What is Jupyter?\n",
    "\n",
    "#### Jupyter is a way of computing and doing data science right in your browser. It gives you a **Notebook** — this document we're looking at now.\n",
    "\n",
    "A Jupyter Notebook can contain: **formatted text, images, videos, pretty math equations, and _executable computer code_**. By \"executable,\" we mean that you run the bits of code, right in the document, and get some output displayed for you. This interactive way of computing, mixed with the text, allows you to tell a story (even to yourself) with extra powers!"
   ]
  },
  {
   "cell_type": "markdown",
   "id": "proud-category",
   "metadata": {},
   "source": [
    "![](http://static2.wikia.nocookie.net/__cb20090531121123/harrypotter/images/f/f9/The_Daily_Prophet_-_1991_Break_in_at_Gringotts.gif)"
   ]
  },
  {
   "cell_type": "markdown",
   "id": "fundamental-photograph",
   "metadata": {},
   "source": [
    "---------------------"
   ]
  },
  {
   "cell_type": "markdown",
   "id": "theoretical-soccer",
   "metadata": {},
   "source": [
    "# What can Jupyter Notebooks be used for?"
   ]
  },
  {
   "cell_type": "markdown",
   "id": "juvenile-southeast",
   "metadata": {},
   "source": [
    "+ **interact with a notebook in a nonlinear fashion, and that gives a great power for exploration**\n",
    "+ **Sharing and explaining code to colleagues**\n",
    "+ **Teaching (programming, experimental/theoretical science)**\n",
    "+ **Learning from other notebooks**\n",
    "+ **Keeping track of interactive sessions, like a digital lab notebook**\n",
    "+ **Supplementary information with published articles**"
   ]
  },
  {
   "cell_type": "markdown",
   "id": "regulation-ethernet",
   "metadata": {},
   "source": [
    "---------------------------"
   ]
  },
  {
   "cell_type": "markdown",
   "id": "broken-astronomy",
   "metadata": {},
   "source": [
    "## Notebook cells\n",
    "\n",
    "The notebook uses _cells_ to break things up into bits of text, and bits of code. This here is a *Markdown* cell: it contains text that you can format using simple markers to get headings, bold, italic, bullet points, hyperlinks, and more.\n",
    "\n",
    "Here's a bit of history: Markdown was co-created by the legendary but tragic [Aaron Swartz](https://en.wikipedia.org/wiki/Aaron_Swartz).\n",
    "\n",
    "A few tips:\n",
    "\n",
    "* to create a title, use a hash to start the line: `# Title`\n",
    "* to create the next heading, use two hashes (and so on): `## Heading`\n",
    "* to italicize a word or phrase, enclose it in asterisks (or underdashes): `*italic*` or `_italic_`\n",
    "* to make it bold, enclose it with two asterisks: `**bolded**`\n",
    "* to make a hyperlink, use square and round brackets: `[hyperlinked text](url)`"
   ]
  },
  {
   "cell_type": "markdown",
   "id": "likely-edmonton",
   "metadata": {},
   "source": [
    "Look at the icons on the menu above:\n",
    "\n",
    "The first icon on the left (an old floppy disk) is for saving your notebook. You can add a new cell with the big **+** button. Then you have the cut, copy, and paste buttons. Then you have a button to \"run\" a code cell, the square icon means \"stop\" and the swirly arrow is to \"restart\" your notebook (if the computation is stuck, for example). Next to that, you have the cell-type selector: Code or Markdown (or others that you can ignore for now).\n",
    "\n",
    "A code cell will show you an input mark, like this: \n",
    "\n",
    "`In [ ]:`\n",
    "\n",
    "Once you execute the code, it will add a number id to the input cell, and produce an output marked like this:\n",
    "\n",
    "`Out [1]:`\n",
    "\n",
    "You can test-drive a code cell by writing some arithmetic operations; Python operators are:\n",
    "```python\n",
    "    +   -   *   /   **   %   //\n",
    "```\n",
    "\n",
    "There's addition, subtraction, multiplication and division. The last three operators are _exponent_ (raise to the power of), _modulo_ (divide and return remainder) and _floor division_.\n",
    "\n",
    "Typing `[shift] + [enter]` will execute the cell and give you the output in a new line, labeled `Out[1]` (the numbering increases each time you execute a cell).\n",
    "\n",
    "_Try it!_ Add a cell with the plus button, enter some operations, and `[shift] + [enter]` to execute."
   ]
  },
  {
   "cell_type": "markdown",
   "id": "floral-harvest",
   "metadata": {},
   "source": [
    "----------------------------"
   ]
  },
  {
   "cell_type": "markdown",
   "id": "infinite-consortium",
   "metadata": {},
   "source": [
    "In addition to arithmetics, you can do comparisons with operators that return Boolean values (`True` or `False`). These are:\n",
    "```python\n",
    "    ==   !=   <   >   <=   >=\n",
    "```\n",
    "\n",
    "In a code cell, you can enter any valid Python code, and type `[shift] + [enter]` to execute it. For example, the simplest code example just prints the message _Hello World!_, like this:\n",
    "```python\n",
    "    print(\"Hello World!\")\n",
    "```\n",
    "\n",
    "You can also define a variable (say `x`) and assign it a value (say, 2), then use that variable in some code. _Try it!_"
   ]
  },
  {
   "cell_type": "code",
   "execution_count": 2,
   "id": "apart-vitamin",
   "metadata": {},
   "outputs": [
    {
     "name": "stdout",
     "output_type": "stream",
     "text": [
      "Hello World!\n"
     ]
    }
   ],
   "source": [
    "print(\"Hello World!\")"
   ]
  },
  {
   "cell_type": "code",
   "execution_count": 3,
   "id": "muslim-longer",
   "metadata": {},
   "outputs": [
    {
     "data": {
      "text/plain": [
       "False"
      ]
     },
     "execution_count": 3,
     "metadata": {},
     "output_type": "execute_result"
    }
   ],
   "source": [
    "x = 2**8\n",
    "x < 64"
   ]
  },
  {
   "cell_type": "markdown",
   "id": "clear-birmingham",
   "metadata": {},
   "source": [
    "----------------------"
   ]
  },
  {
   "cell_type": "markdown",
   "id": "floppy-kansas",
   "metadata": {},
   "source": [
    "# Some of Jupyter’s Nice Features with a case study"
   ]
  },
  {
   "cell_type": "markdown",
   "id": "united-southwest",
   "metadata": {},
   "source": [
    "# Case Study - Earth Temperature over time\n",
    "\n",
    "Is global temperature rising? How much? This is a question of burning importance in today's world!\n",
    "\n",
    "How would we go about understanding the trends from the data on global temperature?\n"
   ]
  },
  {
   "cell_type": "markdown",
   "id": "turned-dividend",
   "metadata": {},
   "source": [
    "# 1. Display Data"
   ]
  },
  {
   "cell_type": "markdown",
   "id": "beginning-alloy",
   "metadata": {},
   "source": [
    "We can display and explore data in a readable and aesthetically-pleasing way.\n",
    "\n",
    "We have some sample data in the folder called `data`. The file contains the year on the first column, and averages of land temperature anomaly listed sequentially on the second column, from 1880 to 2016\n",
    "\n",
    "Lets look at the last 10 lines in the files. Run the next cell to show the data loaded in as a table\n"
   ]
  },
  {
   "cell_type": "code",
   "execution_count": 5,
   "id": "abandoned-explosion",
   "metadata": {},
   "outputs": [
    {
     "data": {
      "text/html": [
       "<div>\n",
       "<style scoped>\n",
       "    .dataframe tbody tr th:only-of-type {\n",
       "        vertical-align: middle;\n",
       "    }\n",
       "\n",
       "    .dataframe tbody tr th {\n",
       "        vertical-align: top;\n",
       "    }\n",
       "\n",
       "    .dataframe thead th {\n",
       "        text-align: right;\n",
       "    }\n",
       "</style>\n",
       "<table border=\"1\" class=\"dataframe\">\n",
       "  <thead>\n",
       "    <tr style=\"text-align: right;\">\n",
       "      <th></th>\n",
       "      <th>Global Land Temperature Anomalies</th>\n",
       "      <th>January-December</th>\n",
       "    </tr>\n",
       "  </thead>\n",
       "  <tbody>\n",
       "    <tr>\n",
       "      <th>131</th>\n",
       "      <td>2007</td>\n",
       "      <td>1.10</td>\n",
       "    </tr>\n",
       "    <tr>\n",
       "      <th>132</th>\n",
       "      <td>2008</td>\n",
       "      <td>0.87</td>\n",
       "    </tr>\n",
       "    <tr>\n",
       "      <th>133</th>\n",
       "      <td>2009</td>\n",
       "      <td>0.88</td>\n",
       "    </tr>\n",
       "    <tr>\n",
       "      <th>134</th>\n",
       "      <td>2010</td>\n",
       "      <td>1.09</td>\n",
       "    </tr>\n",
       "    <tr>\n",
       "      <th>135</th>\n",
       "      <td>2011</td>\n",
       "      <td>0.91</td>\n",
       "    </tr>\n",
       "    <tr>\n",
       "      <th>136</th>\n",
       "      <td>2012</td>\n",
       "      <td>0.92</td>\n",
       "    </tr>\n",
       "    <tr>\n",
       "      <th>137</th>\n",
       "      <td>2013</td>\n",
       "      <td>1.01</td>\n",
       "    </tr>\n",
       "    <tr>\n",
       "      <th>138</th>\n",
       "      <td>2014</td>\n",
       "      <td>1.02</td>\n",
       "    </tr>\n",
       "    <tr>\n",
       "      <th>139</th>\n",
       "      <td>2015</td>\n",
       "      <td>1.35</td>\n",
       "    </tr>\n",
       "    <tr>\n",
       "      <th>140</th>\n",
       "      <td>2016</td>\n",
       "      <td>1.45</td>\n",
       "    </tr>\n",
       "  </tbody>\n",
       "</table>\n",
       "</div>"
      ],
      "text/plain": [
       "    Global Land Temperature Anomalies  January-December\n",
       "131                              2007              1.10\n",
       "132                              2008              0.87\n",
       "133                              2009              0.88\n",
       "134                              2010              1.09\n",
       "135                              2011              0.91\n",
       "136                              2012              0.92\n",
       "137                              2013              1.01\n",
       "138                              2014              1.02\n",
       "139                              2015              1.35\n",
       "140                              2016              1.45"
      ]
     },
     "execution_count": 5,
     "metadata": {},
     "output_type": "execute_result"
    }
   ],
   "source": [
    "import pandas as pd\n",
    "temp_data = pd.read_csv('data/land_global_temperature_anomaly-1880-2016.csv')\n",
    "temp_data.tail(10)"
   ]
  },
  {
   "cell_type": "markdown",
   "id": "structured-delay",
   "metadata": {},
   "source": [
    "# 2. Make Data Visualizations"
   ]
  },
  {
   "cell_type": "markdown",
   "id": "julian-alabama",
   "metadata": {},
   "source": [
    "We can create visualizations based on the above data in the very same document."
   ]
  },
  {
   "cell_type": "markdown",
   "id": "suitable-canon",
   "metadata": {},
   "source": [
    "first load our plotting library: the `pyplot` module of Matplotlib"
   ]
  },
  {
   "cell_type": "code",
   "execution_count": 1,
   "id": "baking-gambling",
   "metadata": {},
   "outputs": [
    {
     "data": {
      "image/png": "[encoded data removed]",
      "text/plain": [
       "<Figure size 432x288 with 1 Axes>"
      ]
     },
     "metadata": {
      "needs_background": "light"
     },
     "output_type": "display_data"
    }
   ],
   "source": [
    "import numpy\n",
    "from matplotlib import pyplot\n",
    "%matplotlib inline\n",
    "\n",
    "year, temp_anomaly = numpy.loadtxt(fname='data/land_global_temperature_anomaly-1880-2016.csv', delimiter=',', \n",
    "                              skiprows=5, unpack=True)\n",
    "\n",
    "pyplot.plot(year, temp_anomaly);"
   ]
  },
  {
   "cell_type": "markdown",
   "id": "stupid-stanley",
   "metadata": {},
   "source": [
    "The term [global temperature](https://www.ncdc.noaa.gov/monitoring-references/faq/anomalies.php) anomaly means the difference in temperature with respect to a reference value or a long-term average. It is a very useful way of looking at the problem and in many ways better than absolute temperature. For example, a winter month may be colder than average in Washington DC, and also in Miami, but the absolute temperatures will be different in both places."
   ]
  },
  {
   "cell_type": "markdown",
   "id": "brazilian-fifteen",
   "metadata": {},
   "source": [
    "# 3. Combine Code, Text, Images, and Links"
   ]
  },
  {
   "cell_type": "markdown",
   "id": "negative-manitoba",
   "metadata": {},
   "source": [
    "Now we have a plot but if I give you this plot without any information you would not be able to figure out what kind of data it is! We need labels on the axis, a title and why not a better color, font and size of the ticks. Publication quality plots should always be your standard for plotting. How you present your data will allow others (and probably you in the future) to better understand your work.\n",
    "\n",
    "Let's make the font of a specific size and type. We don't want to write this out every time we create a plot. Instead, the next few lines of code will apply for all the plots we create from now on."
   ]
  },
  {
   "cell_type": "markdown",
   "id": "consolidated-democracy",
   "metadata": {},
   "source": [
    "Let's make the font of a specific size and type. \n",
    "We don't want to write this out every time we create a plot. \n",
    "Instead, the next few lines of code will apply for all the plots we create from now on."
   ]
  },
  {
   "cell_type": "markdown",
   "id": "collect-friendly",
   "metadata": {},
   "source": [
    "We are going to plot the same plot as before but now we will add a few things to make it prettier and **publication quality**."
   ]
  },
  {
   "cell_type": "code",
   "execution_count": 2,
   "id": "proud-corruption",
   "metadata": {},
   "outputs": [
    {
     "data": {
      "image/png": "[encoded data removed]",
      "text/plain": [
       "<Figure size 720x360 with 1 Axes>"
      ]
     },
     "metadata": {
      "needs_background": "light"
     },
     "output_type": "display_data"
    }
   ],
   "source": [
    "from matplotlib import rcParams\n",
    "rcParams['font.family'] = 'serif'\n",
    "rcParams['font.size'] = 16\n",
    "\n",
    "#You can set the size of the figure by doing:\n",
    "pyplot.figure(figsize=(10,5))\n",
    "\n",
    "#Plotting\n",
    "pyplot.plot(year, temp_anomaly, color='#2929a3', linestyle='-', linewidth=1) \n",
    "pyplot.title('Land global temperature anomalies. \\n')\n",
    "pyplot.xlabel('Year')\n",
    "pyplot.ylabel('Land temperature anomaly [°C]')\n",
    "pyplot.grid();"
   ]
  },
  {
   "cell_type": "markdown",
   "id": "dramatic-forth",
   "metadata": {},
   "source": []
  },
  {
   "cell_type": "markdown",
   "id": "characteristic-solution",
   "metadata": {},
   "source": [
    "![](https://upload.wikimedia.org/wikipedia/commons/thumb/f/f2/Change_in_Average_Temperature.png/330px-Change_in_Average_Temperature.png)"
   ]
  },
  {
   "cell_type": "code",
   "execution_count": 1,
   "id": "athletic-excuse",
   "metadata": {},
   "outputs": [
    {
     "data": {
      "image/jpeg": "[encoded data removed]",
      "text/html": [
       "\n",
       "        <iframe\n",
       "            width=\"400\"\n",
       "            height=\"300\"\n",
       "            src=\"https://www.youtube.com/embed/gGOzHVUQCw0\"\n",
       "            frameborder=\"0\"\n",
       "            allowfullscreen\n",
       "        ></iframe>\n",
       "        "
      ],
      "text/plain": [
       "<IPython.lib.display.YouTubeVideo at 0x7fd49cc7f820>"
      ]
     },
     "execution_count": 1,
     "metadata": {},
     "output_type": "execute_result"
    }
   ],
   "source": [
    "from IPython.display import YouTubeVideo\n",
    "YouTubeVideo('gGOzHVUQCw0')"
   ]
  },
  {
   "cell_type": "markdown",
   "id": "false-diploma",
   "metadata": {},
   "source": [
    "## The world of Jupyter, so far\n",
    "\n",
    "You learned about: \n",
    "\n",
    "* the notebook, \n",
    "* code cells and markdown cells,  \n",
    "* the Jupyter Notebook App, \n",
    "* using a code cell like a calculator,\n",
    "* `[shift] + [enter]` to execute.\n",
    "\n",
    "+ Jupyter is an open-source, interactive web tool allowing researchers to combine code, output, explanatory text and multimedia resources in a single document."
   ]
  },
  {
   "cell_type": "markdown",
   "id": "billion-intake",
   "metadata": {},
   "source": [
    "# A gallery of interesting Jupyter Notebooks\n",
    "https://github.com/jupyter/jupyter/wiki/A-gallery-of-interesting-Jupyter-Notebooks"
   ]
  },
  {
   "cell_type": "markdown",
   "id": "moved-nerve",
   "metadata": {},
   "source": [
    "# student benefits\n",
    "\n",
    "+ Creating opportunities for students to develop as learners stretch beyond the boundaries of any specific course where you may use notebooks.\n",
    "\n",
    "+ Notebooks can also help teach effective communication skills, combining prose with graphics into a strong narrative. Finally, notebooks can support teaching or strengthening programming skills, by combining code with text descriptions and visualizations. Even if a notebook is designed to be consumed passively, the exposure to code helps show students how to do something—and that they can do it themselves. This also helps demystify coding for students who do not view themselves as traditional “computer science” types\n",
    "\n",
    "+ At the top of Bloom’s Taxonomy is pure creation, where students can, for example, author complete computational essays. In both cases, notebooks support courses where students have a wide range of experience and ability: students who need help can rely on the scaffolding of prose explanations and existing code, while also providing room to stretch and explore for more-experienced students. The additional annotation and prose that accompanies code also helps support non-traditional learners and students from underrepresented groups who may have less initial experience/comfort with programming."
   ]
  },
  {
   "cell_type": "markdown",
   "id": "unauthorized-pleasure",
   "metadata": {},
   "source": [
    "# Teaching With Jupyter Notebooks"
   ]
  },
  {
   "cell_type": "markdown",
   "id": "ranking-variety",
   "metadata": {},
   "source": [
    "The ability to narrate and document code using rich formats and embedded multimedia allowsfor verbose and illustrative explanations and analysis"
   ]
  },
  {
   "cell_type": "markdown",
   "id": "decimal-blair",
   "metadata": {},
   "source": [
    "+ Jupyter notebook is often used to provide a set of interactive lecturenotes\n",
    "+ the notebook is frequently used as the format in which homework assignments and projects are completed\n",
    "+ Jupyter notebook is sometimes used as the basis for a flipped classroom\n",
    "\n",
    "+ Notebooks can be adopted at a variety of levels and formats, offering flexibility based on the needs of a course and comfort/interest level of the instructor: in-class demos, interactive labs, auxiliary material (e.g., book replacements, lecture note supplements), assignments, or full course content in a flipped learning environment"
   ]
  },
  {
   "cell_type": "markdown",
   "id": "american-adaptation",
   "metadata": {},
   "source": [
    "# Final discussion\n",
    "+ If you are already using Jupyter, what tasks do you use it for?\n",
    "+ If you are new to Jupyter, do you see any possible use cases?\n",
    "+ Do you think Jupyter Notebooks can help tackle the problem of irreproducible results?"
   ]
  },
  {
   "cell_type": "markdown",
   "id": "christian-month",
   "metadata": {},
   "source": [
    "----------------------------"
   ]
  },
  {
   "cell_type": "markdown",
   "id": "sticky-museum",
   "metadata": {},
   "source": [
    "### Jupyter Notebook App\n",
    "\n",
    "If you are not running Jupyter locally on your computer (or on some cloud-hosted service like Binder we are using), and want to see what the Jupyter Notebook App looks like, you can always try it at: https://try.jupyter.org. "
   ]
  }
 ],
 "metadata": {
  "kernelspec": {
   "display_name": "Python 3",
   "language": "python",
   "name": "python3"
  },
  "language_info": {
   "codemirror_mode": {
    "name": "ipython",
    "version": 3
   },
   "file_extension": ".py",
   "mimetype": "text/x-python",
   "name": "python",
   "nbconvert_exporter": "python",
   "pygments_lexer": "ipython3",
   "version": "3.8.5"
  }
 },
 "nbformat": 4,
 "nbformat_minor": 5
}
